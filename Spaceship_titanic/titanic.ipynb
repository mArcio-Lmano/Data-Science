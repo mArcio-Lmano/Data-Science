{
 "cells": [
  {
   "cell_type": "markdown",
   "metadata": {},
   "source": [
    "[https://www.kaggle.com/competitions/spaceship-titanic/rules]"
   ]
  },
  {
   "cell_type": "code",
   "execution_count": 20,
   "metadata": {},
   "outputs": [],
   "source": [
    "import pandas as pd\n",
    "import matplotlib.pyplot as plt\n",
    "import seaborn as sns\n",
    "from sklearn.model_selection import train_test_split\n",
    "from sklearn.preprocessing import LabelEncoder, StandardScaler\n",
    "import tensorflow as tf\n",
    "import tensorflow_decision_forests as tfdf\n",
    "from tensorflow.keras import layers, models\n",
    "from IPython.display import display, HTML\n"
   ]
  },
  {
   "cell_type": "code",
   "execution_count": 21,
   "metadata": {},
   "outputs": [
    {
     "data": {
      "text/html": [
       "<div>\n",
       "<style scoped>\n",
       "    .dataframe tbody tr th:only-of-type {\n",
       "        vertical-align: middle;\n",
       "    }\n",
       "\n",
       "    .dataframe tbody tr th {\n",
       "        vertical-align: top;\n",
       "    }\n",
       "\n",
       "    .dataframe thead th {\n",
       "        text-align: right;\n",
       "    }\n",
       "</style>\n",
       "<table border=\"1\" class=\"dataframe\">\n",
       "  <thead>\n",
       "    <tr style=\"text-align: right;\">\n",
       "      <th></th>\n",
       "      <th>PassengerId</th>\n",
       "      <th>HomePlanet</th>\n",
       "      <th>CryoSleep</th>\n",
       "      <th>Cabin</th>\n",
       "      <th>Destination</th>\n",
       "      <th>Age</th>\n",
       "      <th>VIP</th>\n",
       "      <th>RoomService</th>\n",
       "      <th>FoodCourt</th>\n",
       "      <th>ShoppingMall</th>\n",
       "      <th>Spa</th>\n",
       "      <th>VRDeck</th>\n",
       "      <th>Name</th>\n",
       "      <th>Transported</th>\n",
       "    </tr>\n",
       "  </thead>\n",
       "  <tbody>\n",
       "    <tr>\n",
       "      <th>0</th>\n",
       "      <td>0001_01</td>\n",
       "      <td>Europa</td>\n",
       "      <td>False</td>\n",
       "      <td>B/0/P</td>\n",
       "      <td>TRAPPIST-1e</td>\n",
       "      <td>39.0</td>\n",
       "      <td>False</td>\n",
       "      <td>0.0</td>\n",
       "      <td>0.0</td>\n",
       "      <td>0.0</td>\n",
       "      <td>0.0</td>\n",
       "      <td>0.0</td>\n",
       "      <td>Maham Ofracculy</td>\n",
       "      <td>False</td>\n",
       "    </tr>\n",
       "    <tr>\n",
       "      <th>1</th>\n",
       "      <td>0002_01</td>\n",
       "      <td>Earth</td>\n",
       "      <td>False</td>\n",
       "      <td>F/0/S</td>\n",
       "      <td>TRAPPIST-1e</td>\n",
       "      <td>24.0</td>\n",
       "      <td>False</td>\n",
       "      <td>109.0</td>\n",
       "      <td>9.0</td>\n",
       "      <td>25.0</td>\n",
       "      <td>549.0</td>\n",
       "      <td>44.0</td>\n",
       "      <td>Juanna Vines</td>\n",
       "      <td>True</td>\n",
       "    </tr>\n",
       "    <tr>\n",
       "      <th>2</th>\n",
       "      <td>0003_01</td>\n",
       "      <td>Europa</td>\n",
       "      <td>False</td>\n",
       "      <td>A/0/S</td>\n",
       "      <td>TRAPPIST-1e</td>\n",
       "      <td>58.0</td>\n",
       "      <td>True</td>\n",
       "      <td>43.0</td>\n",
       "      <td>3576.0</td>\n",
       "      <td>0.0</td>\n",
       "      <td>6715.0</td>\n",
       "      <td>49.0</td>\n",
       "      <td>Altark Susent</td>\n",
       "      <td>False</td>\n",
       "    </tr>\n",
       "    <tr>\n",
       "      <th>3</th>\n",
       "      <td>0003_02</td>\n",
       "      <td>Europa</td>\n",
       "      <td>False</td>\n",
       "      <td>A/0/S</td>\n",
       "      <td>TRAPPIST-1e</td>\n",
       "      <td>33.0</td>\n",
       "      <td>False</td>\n",
       "      <td>0.0</td>\n",
       "      <td>1283.0</td>\n",
       "      <td>371.0</td>\n",
       "      <td>3329.0</td>\n",
       "      <td>193.0</td>\n",
       "      <td>Solam Susent</td>\n",
       "      <td>False</td>\n",
       "    </tr>\n",
       "    <tr>\n",
       "      <th>4</th>\n",
       "      <td>0004_01</td>\n",
       "      <td>Earth</td>\n",
       "      <td>False</td>\n",
       "      <td>F/1/S</td>\n",
       "      <td>TRAPPIST-1e</td>\n",
       "      <td>16.0</td>\n",
       "      <td>False</td>\n",
       "      <td>303.0</td>\n",
       "      <td>70.0</td>\n",
       "      <td>151.0</td>\n",
       "      <td>565.0</td>\n",
       "      <td>2.0</td>\n",
       "      <td>Willy Santantines</td>\n",
       "      <td>True</td>\n",
       "    </tr>\n",
       "  </tbody>\n",
       "</table>\n",
       "</div>"
      ],
      "text/plain": [
       "  PassengerId HomePlanet CryoSleep  Cabin  Destination   Age    VIP  \\\n",
       "0     0001_01     Europa     False  B/0/P  TRAPPIST-1e  39.0  False   \n",
       "1     0002_01      Earth     False  F/0/S  TRAPPIST-1e  24.0  False   \n",
       "2     0003_01     Europa     False  A/0/S  TRAPPIST-1e  58.0   True   \n",
       "3     0003_02     Europa     False  A/0/S  TRAPPIST-1e  33.0  False   \n",
       "4     0004_01      Earth     False  F/1/S  TRAPPIST-1e  16.0  False   \n",
       "\n",
       "   RoomService  FoodCourt  ShoppingMall     Spa  VRDeck               Name  \\\n",
       "0          0.0        0.0           0.0     0.0     0.0    Maham Ofracculy   \n",
       "1        109.0        9.0          25.0   549.0    44.0       Juanna Vines   \n",
       "2         43.0     3576.0           0.0  6715.0    49.0      Altark Susent   \n",
       "3          0.0     1283.0         371.0  3329.0   193.0       Solam Susent   \n",
       "4        303.0       70.0         151.0   565.0     2.0  Willy Santantines   \n",
       "\n",
       "   Transported  \n",
       "0        False  \n",
       "1         True  \n",
       "2        False  \n",
       "3        False  \n",
       "4         True  "
      ]
     },
     "execution_count": 21,
     "metadata": {},
     "output_type": "execute_result"
    }
   ],
   "source": [
    "train = pd.read_csv(\"train.csv\")\n",
    "train.head()"
   ]
  },
  {
   "cell_type": "code",
   "execution_count": 22,
   "metadata": {},
   "outputs": [
    {
     "data": {
      "text/plain": [
       "count        8494\n",
       "unique       6560\n",
       "top       G/734/S\n",
       "freq            8\n",
       "Name: Cabin, dtype: object"
      ]
     },
     "execution_count": 22,
     "metadata": {},
     "output_type": "execute_result"
    }
   ],
   "source": [
    "train[\"Cabin\"].describe()"
   ]
  },
  {
   "cell_type": "code",
   "execution_count": 23,
   "metadata": {},
   "outputs": [
    {
     "data": {
      "text/html": [
       "<div>\n",
       "<style scoped>\n",
       "    .dataframe tbody tr th:only-of-type {\n",
       "        vertical-align: middle;\n",
       "    }\n",
       "\n",
       "    .dataframe tbody tr th {\n",
       "        vertical-align: top;\n",
       "    }\n",
       "\n",
       "    .dataframe thead th {\n",
       "        text-align: right;\n",
       "    }\n",
       "</style>\n",
       "<table border=\"1\" class=\"dataframe\">\n",
       "  <thead>\n",
       "    <tr style=\"text-align: right;\">\n",
       "      <th></th>\n",
       "      <th>Age</th>\n",
       "      <th>RoomService</th>\n",
       "      <th>FoodCourt</th>\n",
       "      <th>ShoppingMall</th>\n",
       "      <th>Spa</th>\n",
       "      <th>VRDeck</th>\n",
       "    </tr>\n",
       "  </thead>\n",
       "  <tbody>\n",
       "    <tr>\n",
       "      <th>count</th>\n",
       "      <td>8514.000000</td>\n",
       "      <td>8512.000000</td>\n",
       "      <td>8510.000000</td>\n",
       "      <td>8485.000000</td>\n",
       "      <td>8510.000000</td>\n",
       "      <td>8505.000000</td>\n",
       "    </tr>\n",
       "    <tr>\n",
       "      <th>mean</th>\n",
       "      <td>28.827930</td>\n",
       "      <td>224.687617</td>\n",
       "      <td>458.077203</td>\n",
       "      <td>173.729169</td>\n",
       "      <td>311.138778</td>\n",
       "      <td>304.854791</td>\n",
       "    </tr>\n",
       "    <tr>\n",
       "      <th>std</th>\n",
       "      <td>14.489021</td>\n",
       "      <td>666.717663</td>\n",
       "      <td>1611.489240</td>\n",
       "      <td>604.696458</td>\n",
       "      <td>1136.705535</td>\n",
       "      <td>1145.717189</td>\n",
       "    </tr>\n",
       "    <tr>\n",
       "      <th>min</th>\n",
       "      <td>0.000000</td>\n",
       "      <td>0.000000</td>\n",
       "      <td>0.000000</td>\n",
       "      <td>0.000000</td>\n",
       "      <td>0.000000</td>\n",
       "      <td>0.000000</td>\n",
       "    </tr>\n",
       "    <tr>\n",
       "      <th>25%</th>\n",
       "      <td>19.000000</td>\n",
       "      <td>0.000000</td>\n",
       "      <td>0.000000</td>\n",
       "      <td>0.000000</td>\n",
       "      <td>0.000000</td>\n",
       "      <td>0.000000</td>\n",
       "    </tr>\n",
       "    <tr>\n",
       "      <th>50%</th>\n",
       "      <td>27.000000</td>\n",
       "      <td>0.000000</td>\n",
       "      <td>0.000000</td>\n",
       "      <td>0.000000</td>\n",
       "      <td>0.000000</td>\n",
       "      <td>0.000000</td>\n",
       "    </tr>\n",
       "    <tr>\n",
       "      <th>75%</th>\n",
       "      <td>38.000000</td>\n",
       "      <td>47.000000</td>\n",
       "      <td>76.000000</td>\n",
       "      <td>27.000000</td>\n",
       "      <td>59.000000</td>\n",
       "      <td>46.000000</td>\n",
       "    </tr>\n",
       "    <tr>\n",
       "      <th>max</th>\n",
       "      <td>79.000000</td>\n",
       "      <td>14327.000000</td>\n",
       "      <td>29813.000000</td>\n",
       "      <td>23492.000000</td>\n",
       "      <td>22408.000000</td>\n",
       "      <td>24133.000000</td>\n",
       "    </tr>\n",
       "  </tbody>\n",
       "</table>\n",
       "</div>"
      ],
      "text/plain": [
       "               Age   RoomService     FoodCourt  ShoppingMall           Spa  \\\n",
       "count  8514.000000   8512.000000   8510.000000   8485.000000   8510.000000   \n",
       "mean     28.827930    224.687617    458.077203    173.729169    311.138778   \n",
       "std      14.489021    666.717663   1611.489240    604.696458   1136.705535   \n",
       "min       0.000000      0.000000      0.000000      0.000000      0.000000   \n",
       "25%      19.000000      0.000000      0.000000      0.000000      0.000000   \n",
       "50%      27.000000      0.000000      0.000000      0.000000      0.000000   \n",
       "75%      38.000000     47.000000     76.000000     27.000000     59.000000   \n",
       "max      79.000000  14327.000000  29813.000000  23492.000000  22408.000000   \n",
       "\n",
       "             VRDeck  \n",
       "count   8505.000000  \n",
       "mean     304.854791  \n",
       "std     1145.717189  \n",
       "min        0.000000  \n",
       "25%        0.000000  \n",
       "50%        0.000000  \n",
       "75%       46.000000  \n",
       "max    24133.000000  "
      ]
     },
     "execution_count": 23,
     "metadata": {},
     "output_type": "execute_result"
    }
   ],
   "source": [
    "train.describe()"
   ]
  },
  {
   "cell_type": "code",
   "execution_count": 24,
   "metadata": {},
   "outputs": [
    {
     "data": {
      "text/plain": [
       "<Axes: xlabel='Transported'>"
      ]
     },
     "execution_count": 24,
     "metadata": {},
     "output_type": "execute_result"
    },
    {
     "data": {
      "image/png": "[encoded data removed]",
      "text/plain": [
       "<Figure size 640x480 with 1 Axes>"
      ]
     },
     "metadata": {},
     "output_type": "display_data"
    }
   ],
   "source": [
    "train[\"Transported\"].value_counts().plot(kind=\"bar\")"
   ]
  },
  {
   "cell_type": "code",
   "execution_count": 25,
   "metadata": {},
   "outputs": [
    {
     "data": {
      "text/plain": [
       "Index(['PassengerId', 'HomePlanet', 'CryoSleep', 'Cabin', 'Destination', 'Age',\n",
       "       'VIP', 'RoomService', 'FoodCourt', 'ShoppingMall', 'Spa', 'VRDeck',\n",
       "       'Name', 'Transported'],\n",
       "      dtype='object')"
      ]
     },
     "execution_count": 25,
     "metadata": {},
     "output_type": "execute_result"
    }
   ],
   "source": [
    "train.columns"
   ]
  },
  {
   "cell_type": "code",
   "execution_count": 26,
   "metadata": {},
   "outputs": [
    {
     "data": {
      "image/png": "[encoded data removed]",
      "text/plain": [
       "<Figure size 2000x1500 with 12 Axes>"
      ]
     },
     "metadata": {},
     "output_type": "display_data"
    }
   ],
   "source": [
    "fig, ax = plt.subplots(4,3,figsize=(20,15))\n",
    "ax = ax.flatten()\n",
    "\n",
    "ax[1].set_xticks([0, 1])\n",
    "ax[1].set_xticklabels(['False', 'True'])\n",
    "\n",
    "ax[4].set_xticks([0, 1])\n",
    "ax[4].set_xticklabels(['False', 'True'])\n",
    "\n",
    "sns.histplot(train[\"HomePlanet\"],ax=ax[0])\n",
    "sns.histplot(train[\"CryoSleep\"],ax=ax[1], discrete=True)\n",
    "sns.histplot(train[\"Destination\"],ax=ax[2])\n",
    "sns.histplot(train[\"Age\"],ax=ax[3])\n",
    "sns.histplot(train[\"VIP\"],ax=ax[4], discrete=True)\n",
    "sns.histplot(train[\"RoomService\"],ax=ax[5], bins=50)\n",
    "sns.histplot(train[\"FoodCourt\"],ax=ax[6], bins=50)\n",
    "sns.histplot(train[\"ShoppingMall\"],ax=ax[7], bins=50)\n",
    "sns.histplot(train[\"Spa\"],ax=ax[8], bins=50)\n",
    "sns.histplot(train[\"VRDeck\"],ax=ax[9], bins=50)\n",
    "\n",
    "for i in range(10, len(ax)):\n",
    "    ax[i].axis(\"off\")\n",
    "\n",
    "plt.show()"
   ]
  },
  {
   "cell_type": "code",
   "execution_count": 27,
   "metadata": {},
   "outputs": [
    {
     "data": {
      "text/plain": [
       "Index(['PassengerId', 'HomePlanet', 'CryoSleep', 'Cabin', 'Destination', 'Age',\n",
       "       'VIP', 'RoomService', 'FoodCourt', 'ShoppingMall', 'Spa', 'VRDeck',\n",
       "       'Name', 'Transported'],\n",
       "      dtype='object')"
      ]
     },
     "execution_count": 27,
     "metadata": {},
     "output_type": "execute_result"
    }
   ],
   "source": [
    "train.columns"
   ]
  },
  {
   "cell_type": "code",
   "execution_count": 28,
   "metadata": {},
   "outputs": [],
   "source": [
    "# print(train[\"Cabin\"][222])"
   ]
  },
  {
   "cell_type": "code",
   "execution_count": 29,
   "metadata": {},
   "outputs": [],
   "source": [
    "def pre_processing(df):\n",
    "    df = df.copy()\n",
    "    df = df.drop([\"PassengerId\", \"Name\"], axis=1)\n",
    "    df = df.dropna()\n",
    "    df[\"CryoSleep\"] = df[\"CryoSleep\"].astype(\"int\")\n",
    "    df[\"VIP\"] = df[\"VIP\"].astype(\"int\")\n",
    "    df[\"Transported\"] = df[\"Transported\"].astype(\"int\")\n",
    "    df[[\"Deck\", \"Cabin_num\", \"Side\"]] = df[\"Cabin\"].str.split(\"/\", expand=True)\n",
    "    df = df.drop([\"Cabin\"], axis=1)\n",
    "    return df\n",
    "\n",
    "def label_encode(df):\n",
    "    df = df.copy()\n",
    "    label_encoder = LabelEncoder()\n",
    "    df[\"HomePlanet\"] = label_encoder.fit_transform(df[\"HomePlanet\"])\n",
    "    df[\"Destination\"] = label_encoder.fit_transform(df[\"Destination\"])\n",
    "    df[\"Deck\"] = label_encoder.fit_transform(df[\"Deck\"])\n",
    "    df[\"Side\"] = label_encoder.fit_transform(df[\"Side\"])\n",
    "    df[\"Cabin_num\"] = df[\"Cabin_num\"].astype(\"int\")\n",
    "    \n",
    "    ss = StandardScaler()\n",
    "    df = ss.fit_transform(df)\n",
    "    return df"
   ]
  },
  {
   "cell_type": "code",
   "execution_count": 30,
   "metadata": {},
   "outputs": [
    {
     "data": {
      "text/plain": [
       "CryoSleep       217\n",
       "ShoppingMall    208\n",
       "VIP             203\n",
       "HomePlanet      201\n",
       "Name            200\n",
       "Cabin           199\n",
       "VRDeck          188\n",
       "FoodCourt       183\n",
       "Spa             183\n",
       "Destination     182\n",
       "RoomService     181\n",
       "Age             179\n",
       "PassengerId       0\n",
       "Transported       0\n",
       "dtype: int64"
      ]
     },
     "execution_count": 30,
     "metadata": {},
     "output_type": "execute_result"
    }
   ],
   "source": [
    "train.isna().sum().sort_values(ascending=False)"
   ]
  },
  {
   "cell_type": "code",
   "execution_count": 31,
   "metadata": {},
   "outputs": [],
   "source": [
    "train = pre_processing(train)"
   ]
  },
  {
   "cell_type": "code",
   "execution_count": 32,
   "metadata": {},
   "outputs": [
    {
     "data": {
      "text/plain": [
       "HomePlanet      0\n",
       "CryoSleep       0\n",
       "Destination     0\n",
       "Age             0\n",
       "VIP             0\n",
       "RoomService     0\n",
       "FoodCourt       0\n",
       "ShoppingMall    0\n",
       "Spa             0\n",
       "VRDeck          0\n",
       "Transported     0\n",
       "Deck            0\n",
       "Cabin_num       0\n",
       "Side            0\n",
       "dtype: int64"
      ]
     },
     "execution_count": 32,
     "metadata": {},
     "output_type": "execute_result"
    }
   ],
   "source": [
    "train.isna().sum().sort_values(ascending=False)"
   ]
  },
  {
   "cell_type": "code",
   "execution_count": 33,
   "metadata": {},
   "outputs": [],
   "source": [
    "target = \"Transported\"\n",
    "features = train.columns[train.columns != target]\n",
    "x = train[features]\n",
    "y = train[target]"
   ]
  },
  {
   "cell_type": "code",
   "execution_count": 34,
   "metadata": {},
   "outputs": [],
   "source": [
    "x_train, x_test, y_train, y_test = train_test_split(x, y, \n",
    "                                                    test_size=0.3, \n",
    "                                                    random_state=42)\n",
    "\n",
    "x_train = label_encode(x_train)\n",
    "x_test = label_encode(x_test)\n",
    "\n",
    "x_train = pd.DataFrame(x_train, columns=features)\n",
    "x_test = pd.DataFrame(x_test, columns=features)\n",
    "\n",
    "train_data = pd.concat([x_train, y_train.reset_index(drop=True)], axis=1)\n",
    "test_data = pd.concat([x_test, y_test.reset_index(drop=True)], axis=1)"
   ]
  },
  {
   "cell_type": "code",
   "execution_count": 35,
   "metadata": {},
   "outputs": [],
   "source": [
    "train_data = tfdf.keras.pd_dataframe_to_tf_dataset(train_data, label=target)\n",
    "test_data = tfdf.keras.pd_dataframe_to_tf_dataset(test_data, label=target)"
   ]
  },
  {
   "cell_type": "code",
   "execution_count": 36,
   "metadata": {},
   "outputs": [
    {
     "name": "stdout",
     "output_type": "stream",
     "text": [
      "Use /tmp/tmpqxgeamsn as temporary training directory\n",
      "Reading training dataset...\n",
      "Training dataset read in 0:00:02.240927. Found 4734 examples.\n",
      "Training model...\n"
     ]
    },
    {
     "name": "stderr",
     "output_type": "stream",
     "text": [
      "[INFO 23-12-22 15:32:33.7014 WET kernel.cc:1233] Loading model from path /tmp/tmpqxgeamsn/model/ with prefix 21654a94068841ef\n"
     ]
    },
    {
     "name": "stdout",
     "output_type": "stream",
     "text": [
      "Model trained in 0:00:00.837135\n",
      "Compiling model...\n"
     ]
    },
    {
     "name": "stderr",
     "output_type": "stream",
     "text": [
      "[INFO 23-12-22 15:32:34.0596 WET decision_forest.cc:660] Model loaded with 300 root(s), 201260 node(s), and 13 input feature(s).\n",
      "[INFO 23-12-22 15:32:34.0597 WET abstract_model.cc:1344] Engine \"RandomForestOptPred\" built\n",
      "[INFO 23-12-22 15:32:34.0597 WET kernel.cc:1061] Use fast generic engine\n"
     ]
    },
    {
     "name": "stdout",
     "output_type": "stream",
     "text": [
      "Model compiled.\n"
     ]
    },
    {
     "data": {
      "text/plain": [
       "<keras.src.callbacks.History at 0x7f5a6437fc50>"
      ]
     },
     "execution_count": 36,
     "metadata": {},
     "output_type": "execute_result"
    }
   ],
   "source": [
    "rf = tfdf.keras.RandomForestModel()\n",
    "rf.compile(metrics=[\"accuracy\"])\n",
    "rf.fit(train_data)"
   ]
  },
  {
   "cell_type": "code",
   "execution_count": 37,
   "metadata": {
    "scrolled": false
   },
   "outputs": [],
   "source": [
    "plot = tfdf.model_plotter.plot_model(rf, tree_idx=1, max_depth=3)"
   ]
  },
  {
   "cell_type": "code",
   "execution_count": 38,
   "metadata": {},
   "outputs": [
    {
     "name": "stdout",
     "output_type": "stream",
     "text": [
      "Tree plot HTML saved to: tree_plot.html\n"
     ]
    }
   ],
   "source": [
    "html_file_path = \"tree_plot.html\"\n",
    "\n",
    "with open(html_file_path, \"w\") as html_file:\n",
    "    html_file.write(plot)\n",
    "\n",
    "print(f\"Tree plot HTML saved to: {html_file_path}\")"
   ]
  },
  {
   "cell_type": "code",
   "execution_count": 39,
   "metadata": {},
   "outputs": [
    {
     "data": {
      "image/png": "[encoded data removed]",
      "text/plain": [
       "<Figure size 640x480 with 1 Axes>"
      ]
     },
     "metadata": {},
     "output_type": "display_data"
    }
   ],
   "source": [
    "logs = rf.make_inspector().training_logs()\n",
    "plt.plot([log.num_trees for log in logs], [log.evaluation.accuracy for log in logs])\n",
    "plt.xlabel(\"Number of trees\")\n",
    "plt.ylabel(\"Accuracy (out-of-bag)\")\n",
    "plt.show()"
   ]
  },
  {
   "cell_type": "code",
   "execution_count": 40,
   "metadata": {},
   "outputs": [
    {
     "name": "stdout",
     "output_type": "stream",
     "text": [
      "3/3 [==============================] - 0s 20ms/step - loss: 0.0000e+00 - accuracy: 0.8005\n",
      "loss: 0.0000\n",
      "accuracy: 0.8005\n"
     ]
    }
   ],
   "source": [
    "evaluation = rf.evaluate(x=test_data,return_dict=True)\n",
    "\n",
    "for name, value in evaluation.items():\n",
    "  print(f\"{name}: {value:.4f}\")"
   ]
  },
  {
   "cell_type": "code",
   "execution_count": 41,
   "metadata": {},
   "outputs": [
    {
     "name": "stdout",
     "output_type": "stream",
     "text": [
      "Available variable importances:\n",
      "\t INV_MEAN_MIN_DEPTH\n",
      "\t NUM_AS_ROOT\n",
      "\t SUM_SCORE\n",
      "\t NUM_NODES\n"
     ]
    },
    {
     "data": {
      "text/plain": [
       "[(\"CryoSleep\" (1; #2), 112.0),\n",
       " (\"RoomService\" (1; #7), 62.0),\n",
       " (\"Spa\" (1; #10), 52.0),\n",
       " (\"VRDeck\" (1; #12), 40.0),\n",
       " (\"ShoppingMall\" (1; #8), 15.0),\n",
       " (\"Deck\" (1; #3), 8.0),\n",
       " (\"FoodCourt\" (1; #5), 8.0),\n",
       " (\"HomePlanet\" (1; #6), 3.0)]"
      ]
     },
     "execution_count": 41,
     "metadata": {},
     "output_type": "execute_result"
    }
   ],
   "source": [
    "inspector = rf.make_inspector()\n",
    "inspector.evaluation()\n",
    "\n",
    "print(f\"Available variable importances:\")\n",
    "for importance in inspector.variable_importances().keys():\n",
    "  print(\"\\t\", importance)\n",
    "  \n",
    "inspector.variable_importances()[\"NUM_AS_ROOT\"]"
   ]
  },
  {
   "cell_type": "code",
   "execution_count": 42,
   "metadata": {},
   "outputs": [
    {
     "name": "stdout",
     "output_type": "stream",
     "text": [
      "Use /tmp/tmpklaaprya as temporary training directory\n",
      "Reading training dataset...\n",
      "Training dataset read in 0:00:00.152457. Found 4734 examples.\n",
      "Training model...\n"
     ]
    },
    {
     "name": "stderr",
     "output_type": "stream",
     "text": [
      "[WARNING 23-12-22 15:32:35.0896 WET gradient_boosted_trees.cc:1886] \"goss_alpha\" set but \"sampling_method\" not equal to \"GOSS\".\n",
      "[WARNING 23-12-22 15:32:35.0900 WET gradient_boosted_trees.cc:1897] \"goss_beta\" set but \"sampling_method\" not equal to \"GOSS\".\n",
      "[WARNING 23-12-22 15:32:35.0900 WET gradient_boosted_trees.cc:1911] \"selective_gradient_boosting_ratio\" set but \"sampling_method\" not equal to \"SELGB\".\n"
     ]
    },
    {
     "name": "stdout",
     "output_type": "stream",
     "text": [
      "Model trained in 0:00:00.927406\n",
      "Compiling model...\n",
      "Model compiled.\n",
      "Model: \"gradient_boosted_trees_model\"\n",
      "_________________________________________________________________\n",
      " Layer (type)                Output Shape              Param #   \n",
      "=================================================================\n",
      "=================================================================\n",
      "Total params: 1 (1.00 Byte)\n",
      "Trainable params: 0 (0.00 Byte)\n",
      "Non-trainable params: 1 (1.00 Byte)\n",
      "_________________________________________________________________\n",
      "Type: \"GRADIENT_BOOSTED_TREES\"\n",
      "Task: CLASSIFICATION\n",
      "Label: \"__LABEL\"\n",
      "\n",
      "Input Features (13):\n",
      "\tAge\n",
      "\tCabin_num\n",
      "\tCryoSleep\n",
      "\tDeck\n",
      "\tDestination\n",
      "\tFoodCourt\n",
      "\tHomePlanet\n",
      "\tRoomService\n",
      "\tShoppingMall\n",
      "\tSide\n",
      "\tSpa\n",
      "\tVIP\n",
      "\tVRDeck\n",
      "\n",
      "No weights\n",
      "\n",
      "Variable Importance: INV_MEAN_MIN_DEPTH:\n",
      "    1.    \"CryoSleep\"  0.228945 ################\n",
      "    2.       \"VRDeck\"  0.217566 #############\n",
      "    3.          \"Spa\"  0.214483 #############\n",
      "    4.    \"Cabin_num\"  0.203413 ##########\n",
      "    5.  \"RoomService\"  0.189726 ########\n",
      "    6.    \"FoodCourt\"  0.188848 #######\n",
      "    7.          \"Age\"  0.188315 #######\n",
      "    8.         \"Deck\"  0.185826 #######\n",
      "    9.         \"Side\"  0.177086 #####\n",
      "   10. \"ShoppingMall\"  0.163587 ##\n",
      "   11.  \"Destination\"  0.157812 #\n",
      "   12.   \"HomePlanet\"  0.156582 #\n",
      "   13.          \"VIP\"  0.149800 \n",
      "\n",
      "Variable Importance: NUM_AS_ROOT:\n",
      "    1. \"CryoSleep\" 22.000000 ################\n",
      "    2.    \"VRDeck\" 17.000000 ###########\n",
      "    3.       \"Spa\" 13.000000 ########\n",
      "    4.      \"Side\"  5.000000 #\n",
      "    5.       \"Age\"  3.000000 \n",
      "\n",
      "Variable Importance: NUM_NODES:\n",
      "    1.    \"Cabin_num\" 639.000000 ################\n",
      "    2.          \"Age\" 340.000000 ########\n",
      "    3.    \"FoodCourt\" 303.000000 #######\n",
      "    4.       \"VRDeck\" 270.000000 ######\n",
      "    5.          \"Spa\" 266.000000 ######\n",
      "    6. \"ShoppingMall\" 193.000000 ####\n",
      "    7.  \"RoomService\" 188.000000 ####\n",
      "    8.         \"Deck\" 166.000000 ####\n",
      "    9.         \"Side\" 99.000000 ##\n",
      "   10.  \"Destination\" 69.000000 #\n",
      "   11.   \"HomePlanet\" 64.000000 #\n",
      "   12.    \"CryoSleep\" 40.000000 \n",
      "   13.          \"VIP\"  6.000000 \n",
      "\n",
      "Variable Importance: SUM_SCORE:\n",
      "    1.    \"CryoSleep\" 1184.501930 ################\n",
      "    2.    \"FoodCourt\" 400.563788 #####\n",
      "    3.    \"Cabin_num\" 382.011493 #####\n",
      "    4.          \"Spa\" 343.905149 ####\n",
      "    5.       \"VRDeck\" 338.018204 ####\n",
      "    6.         \"Deck\" 337.801687 ####\n",
      "    7.          \"Age\" 252.090475 ###\n",
      "    8.  \"RoomService\" 238.312658 ###\n",
      "    9. \"ShoppingMall\" 200.174117 ##\n",
      "   10.         \"Side\" 97.477694 #\n",
      "   11.   \"HomePlanet\" 41.903571 \n",
      "   12.  \"Destination\" 38.363103 \n",
      "   13.          \"VIP\"  2.306771 \n",
      "\n",
      "\n",
      "Hyperparameter optimizer:\n",
      "\n",
      "Best parameters: max_depth:7 num_trees:500\n",
      "Num steps: 9\n",
      "Best score: -0.770112\n",
      "\n",
      "Step #0 score:-0.771592 parameters:{ max_depth:7 num_trees:50 }\n",
      "Step #1 score:-0.798971 parameters:{ max_depth:10 num_trees:50 }\n",
      "Step #2 score:-0.770112 parameters:{ max_depth:7 num_trees:500 }\n",
      "Step #3 score:-0.770112 parameters:{ max_depth:7 num_trees:200 }\n",
      "Step #4 score:-0.815514 parameters:{ max_depth:13 num_trees:50 }\n",
      "Step #5 score:-0.798971 parameters:{ max_depth:10 num_trees:500 }\n",
      "Step #6 score:-0.798971 parameters:{ max_depth:10 num_trees:200 }\n",
      "Step #7 score:-0.815514 parameters:{ max_depth:13 num_trees:200 }\n",
      "Step #8 score:-0.815514 parameters:{ max_depth:13 num_trees:500 }\n",
      "\n",
      "\n",
      "Loss: BINOMIAL_LOG_LIKELIHOOD\n",
      "Validation loss value: 0.770112\n",
      "Number of trees per iteration: 1\n",
      "Node format: NOT_SET\n",
      "Number of trees: 60\n",
      "Total number of nodes: 5346\n",
      "\n",
      "Number of nodes by tree:\n",
      "Count: 60 Average: 89.1 StdDev: 18.0644\n",
      "Min: 51 Max: 113 Ignored: 0\n",
      "----------------------------------------------\n",
      "[  51,  54)  2   3.33%   3.33% ##\n",
      "[  54,  57)  0   0.00%   3.33%\n",
      "[  57,  60)  1   1.67%   5.00% #\n",
      "[  60,  63)  1   1.67%   6.67% #\n",
      "[  63,  66)  6  10.00%  16.67% ######\n",
      "[  66,  69)  2   3.33%  20.00% ##\n",
      "[  69,  73)  2   3.33%  23.33% ##\n",
      "[  73,  76)  2   3.33%  26.67% ##\n",
      "[  76,  79)  3   5.00%  31.67% ###\n",
      "[  79,  82)  2   3.33%  35.00% ##\n",
      "[  82,  85)  2   3.33%  38.33% ##\n",
      "[  85,  88)  4   6.67%  45.00% ####\n",
      "[  88,  91)  0   0.00%  45.00%\n",
      "[  91,  95)  4   6.67%  51.67% ####\n",
      "[  95,  98)  1   1.67%  53.33% #\n",
      "[  98, 101)  3   5.00%  58.33% ###\n",
      "[ 101, 104)  9  15.00%  73.33% #########\n",
      "[ 104, 107)  2   3.33%  76.67% ##\n",
      "[ 107, 110) 10  16.67%  93.33% ##########\n",
      "[ 110, 113]  4   6.67% 100.00% ####\n",
      "\n",
      "Depth by leafs:\n",
      "Count: 2703 Average: 5.7155 StdDev: 0.654029\n",
      "Min: 2 Max: 6 Ignored: 0\n",
      "----------------------------------------------\n",
      "[ 2, 3)    3   0.11%   0.11%\n",
      "[ 3, 4)   50   1.85%   1.96%\n",
      "[ 4, 5)  135   4.99%   6.96% #\n",
      "[ 5, 6)  337  12.47%  19.42% ##\n",
      "[ 6, 6] 2178  80.58% 100.00% ##########\n",
      "\n",
      "Number of training obs by leaf:\n",
      "Count: 2703 Average: 94.6726 StdDev: 252.398\n",
      "Min: 5 Max: 3548 Ignored: 0\n",
      "----------------------------------------------\n",
      "[    5,  182) 2350  86.94%  86.94% ##########\n",
      "[  182,  359)  179   6.62%  93.56% #\n",
      "[  359,  536)   72   2.66%  96.23%\n",
      "[  536,  713)   37   1.37%  97.60%\n",
      "[  713,  891)   25   0.92%  98.52%\n",
      "[  891, 1068)   10   0.37%  98.89%\n",
      "[ 1068, 1245)    9   0.33%  99.22%\n",
      "[ 1245, 1422)    4   0.15%  99.37%\n",
      "[ 1422, 1599)    4   0.15%  99.52%\n",
      "[ 1599, 1777)    0   0.00%  99.52%\n",
      "[ 1777, 1954)    0   0.00%  99.52%\n",
      "[ 1954, 2131)    1   0.04%  99.56%\n",
      "[ 2131, 2308)    2   0.07%  99.63%\n",
      "[ 2308, 2485)    3   0.11%  99.74%\n",
      "[ 2485, 2663)    1   0.04%  99.78%\n",
      "[ 2663, 2840)    2   0.07%  99.85%\n",
      "[ 2840, 3017)    1   0.04%  99.89%\n",
      "[ 3017, 3194)    0   0.00%  99.89%\n",
      "[ 3194, 3371)    0   0.00%  99.89%\n",
      "[ 3371, 3548]    3   0.11% 100.00%\n",
      "\n",
      "Attribute in nodes:\n",
      "\t639 : Cabin_num [NUMERICAL]\n",
      "\t340 : Age [NUMERICAL]\n",
      "\t303 : FoodCourt [NUMERICAL]\n",
      "\t270 : VRDeck [NUMERICAL]\n",
      "\t266 : Spa [NUMERICAL]\n",
      "\t193 : ShoppingMall [NUMERICAL]\n",
      "\t188 : RoomService [NUMERICAL]\n",
      "\t166 : Deck [NUMERICAL]\n",
      "\t99 : Side [NUMERICAL]\n",
      "\t69 : Destination [NUMERICAL]\n",
      "\t64 : HomePlanet [NUMERICAL]\n",
      "\t40 : CryoSleep [NUMERICAL]\n",
      "\t6 : VIP [NUMERICAL]\n",
      "\n",
      "Attribute in nodes with depth <= 0:\n",
      "\t22 : CryoSleep [NUMERICAL]\n",
      "\t17 : VRDeck [NUMERICAL]\n",
      "\t13 : Spa [NUMERICAL]\n",
      "\t5 : Side [NUMERICAL]\n",
      "\t3 : Age [NUMERICAL]\n",
      "\n",
      "Attribute in nodes with depth <= 1:\n",
      "\t28 : RoomService [NUMERICAL]\n",
      "\t24 : CryoSleep [NUMERICAL]\n",
      "\t23 : Deck [NUMERICAL]\n",
      "\t22 : VRDeck [NUMERICAL]\n",
      "\t20 : Spa [NUMERICAL]\n",
      "\t20 : FoodCourt [NUMERICAL]\n",
      "\t17 : Cabin_num [NUMERICAL]\n",
      "\t13 : Age [NUMERICAL]\n",
      "\t11 : Side [NUMERICAL]\n",
      "\t2 : ShoppingMall [NUMERICAL]\n",
      "\n",
      "Attribute in nodes with depth <= 2:\n",
      "\t70 : Cabin_num [NUMERICAL]\n",
      "\t52 : Spa [NUMERICAL]\n",
      "\t49 : FoodCourt [NUMERICAL]\n",
      "\t45 : VRDeck [NUMERICAL]\n",
      "\t43 : Age [NUMERICAL]\n",
      "\t41 : RoomService [NUMERICAL]\n",
      "\t36 : Deck [NUMERICAL]\n",
      "\t25 : CryoSleep [NUMERICAL]\n",
      "\t16 : Side [NUMERICAL]\n",
      "\t15 : HomePlanet [NUMERICAL]\n",
      "\t13 : ShoppingMall [NUMERICAL]\n",
      "\t12 : Destination [NUMERICAL]\n",
      "\n",
      "Attribute in nodes with depth <= 3:\n",
      "\t148 : Cabin_num [NUMERICAL]\n",
      "\t106 : FoodCourt [NUMERICAL]\n",
      "\t104 : Age [NUMERICAL]\n",
      "\t96 : VRDeck [NUMERICAL]\n",
      "\t87 : Spa [NUMERICAL]\n",
      "\t77 : Deck [NUMERICAL]\n",
      "\t62 : RoomService [NUMERICAL]\n",
      "\t52 : ShoppingMall [NUMERICAL]\n",
      "\t31 : Side [NUMERICAL]\n",
      "\t29 : CryoSleep [NUMERICAL]\n",
      "\t25 : HomePlanet [NUMERICAL]\n",
      "\t24 : Destination [NUMERICAL]\n",
      "\n",
      "Attribute in nodes with depth <= 5:\n",
      "\t639 : Cabin_num [NUMERICAL]\n",
      "\t340 : Age [NUMERICAL]\n",
      "\t303 : FoodCourt [NUMERICAL]\n",
      "\t270 : VRDeck [NUMERICAL]\n",
      "\t266 : Spa [NUMERICAL]\n",
      "\t193 : ShoppingMall [NUMERICAL]\n",
      "\t188 : RoomService [NUMERICAL]\n",
      "\t166 : Deck [NUMERICAL]\n",
      "\t99 : Side [NUMERICAL]\n",
      "\t69 : Destination [NUMERICAL]\n",
      "\t64 : HomePlanet [NUMERICAL]\n",
      "\t40 : CryoSleep [NUMERICAL]\n",
      "\t6 : VIP [NUMERICAL]\n",
      "\n",
      "Condition type in nodes:\n",
      "\t2643 : HigherCondition\n",
      "Condition type in nodes with depth <= 0:\n",
      "\t60 : HigherCondition\n",
      "Condition type in nodes with depth <= 1:\n",
      "\t180 : HigherCondition\n",
      "Condition type in nodes with depth <= 2:\n",
      "\t417 : HigherCondition\n",
      "Condition type in nodes with depth <= 3:\n",
      "\t841 : HigherCondition\n",
      "Condition type in nodes with depth <= 5:\n",
      "\t2643 : HigherCondition\n",
      "\n",
      "Training logs:\n",
      "Number of iteration to final model: 60\n",
      "\tIter:1 train-loss:1.295546 valid-loss:1.303515  train-accuracy:0.807034 valid-accuracy:0.782516\n",
      "\tIter:2 train-loss:1.221351 valid-loss:1.237533  train-accuracy:0.816882 valid-accuracy:0.786780\n",
      "\tIter:3 train-loss:1.158951 valid-loss:1.179062  train-accuracy:0.818523 valid-accuracy:0.795309\n",
      "\tIter:4 train-loss:1.103827 valid-loss:1.126362  train-accuracy:0.825088 valid-accuracy:0.801706\n",
      "\tIter:5 train-loss:1.056233 valid-loss:1.079703  train-accuracy:0.832825 valid-accuracy:0.812367\n",
      "\tIter:6 train-loss:1.016634 valid-loss:1.044582  train-accuracy:0.833763 valid-accuracy:0.814499\n",
      "\tIter:16 train-loss:0.789890 valid-loss:0.852986  train-accuracy:0.849472 valid-accuracy:0.823028\n",
      "\tIter:26 train-loss:0.685292 valid-loss:0.805999  train-accuracy:0.861665 valid-accuracy:0.827292\n",
      "\tIter:36 train-loss:0.622543 valid-loss:0.789508  train-accuracy:0.874560 valid-accuracy:0.827292\n",
      "\tIter:46 train-loss:0.574056 valid-loss:0.775764  train-accuracy:0.887690 valid-accuracy:0.823028\n",
      "\tIter:56 train-loss:0.539237 valid-loss:0.772892  train-accuracy:0.899179 valid-accuracy:0.825160\n",
      "\tIter:66 train-loss:0.514319 valid-loss:0.772766  train-accuracy:0.905276 valid-accuracy:0.829424\n",
      "\tIter:76 train-loss:0.493630 valid-loss:0.773580  train-accuracy:0.912544 valid-accuracy:0.831556\n",
      "\tIter:86 train-loss:0.464301 valid-loss:0.774599  train-accuracy:0.924736 valid-accuracy:0.820895\n",
      "\n",
      "None\n"
     ]
    },
    {
     "name": "stderr",
     "output_type": "stream",
     "text": [
      "[INFO 23-12-22 15:32:36.1668 WET kernel.cc:1233] Loading model from path /tmp/tmpklaaprya/model/ with prefix 29375fa8a38f44fb\n",
      "[INFO 23-12-22 15:32:36.1740 WET quick_scorer_extended.cc:903] The binary was compiled without AVX2 support, but your CPU supports it. Enable it for faster model inference.\n",
      "[INFO 23-12-22 15:32:36.1744 WET kernel.cc:1061] Use fast generic engine\n"
     ]
    }
   ],
   "source": [
    "tuner = tfdf.tuner.RandomSearch(num_trials=20)\n",
    "tuner.choice(\"max_depth\", [7, 10, 13]) \n",
    "tuner.choice(\"num_trees\", [50, 200, 500])\n",
    "\n",
    "\n",
    "gbt = tfdf.keras.GradientBoostedTreesModel(tuner=tuner)\n",
    "gbt.compile(metrics=[\"accuracy\"])\n",
    "gbt.fit(train_data)\n",
    "\n",
    "print(gbt.summary())"
   ]
  },
  {
   "cell_type": "code",
   "execution_count": 43,
   "metadata": {},
   "outputs": [
    {
     "data": {
      "image/png": "[encoded data removed]",
      "text/plain": [
       "<Figure size 640x480 with 1 Axes>"
      ]
     },
     "metadata": {},
     "output_type": "display_data"
    }
   ],
   "source": [
    "logs = gbt.make_inspector().training_logs()\n",
    "plt.plot([log.num_trees for log in logs], [log.evaluation.accuracy for log in logs])\n",
    "plt.xlabel(\"Number of trees\")\n",
    "plt.ylabel(\"Accuracy (out-of-bag)\")\n",
    "plt.show()"
   ]
  },
  {
   "cell_type": "code",
   "execution_count": 44,
   "metadata": {},
   "outputs": [
    {
     "name": "stdout",
     "output_type": "stream",
     "text": [
      "3/3 [==============================] - 0s 3ms/step - loss: 0.0000e+00 - accuracy: 0.7970\n",
      "loss: 0.0000\n",
      "accuracy: 0.7970\n"
     ]
    }
   ],
   "source": [
    "evaluation = gbt.evaluate(x=test_data,return_dict=True)\n",
    "\n",
    "for name, value in evaluation.items():\n",
    "  print(f\"{name}: {value:.4f}\")"
   ]
  },
  {
   "cell_type": "code",
   "execution_count": 45,
   "metadata": {},
   "outputs": [
    {
     "name": "stdout",
     "output_type": "stream",
     "text": [
      "Available variable importances:\n",
      "\t INV_MEAN_MIN_DEPTH\n",
      "\t NUM_AS_ROOT\n",
      "\t SUM_SCORE\n",
      "\t NUM_NODES\n"
     ]
    },
    {
     "data": {
      "text/plain": [
       "[(\"CryoSleep\" (1; #2), 22.0),\n",
       " (\"VRDeck\" (1; #12), 17.0),\n",
       " (\"Spa\" (1; #10), 13.0),\n",
       " (\"Side\" (1; #9), 5.0),\n",
       " (\"Age\" (1; #0), 3.0)]"
      ]
     },
     "execution_count": 45,
     "metadata": {},
     "output_type": "execute_result"
    }
   ],
   "source": [
    "inspector = gbt.make_inspector()\n",
    "inspector.evaluation()\n",
    "\n",
    "print(f\"Available variable importances:\")\n",
    "for importance in inspector.variable_importances().keys():\n",
    "  print(\"\\t\", importance)\n",
    "  \n",
    "inspector.variable_importances()[\"NUM_AS_ROOT\"]"
   ]
  },
  {
   "cell_type": "code",
   "execution_count": 46,
   "metadata": {},
   "outputs": [
    {
     "name": "stdout",
     "output_type": "stream",
     "text": [
      "Index(['HomePlanet', 'CryoSleep', 'Destination', 'Age', 'VIP', 'RoomService',\n",
      "       'FoodCourt', 'ShoppingMall', 'Spa', 'VRDeck', 'Deck', 'Cabin_num',\n",
      "       'Side'],\n",
      "      dtype='object')\n"
     ]
    },
    {
     "data": {
      "text/html": [
       "<div>\n",
       "<style scoped>\n",
       "    .dataframe tbody tr th:only-of-type {\n",
       "        vertical-align: middle;\n",
       "    }\n",
       "\n",
       "    .dataframe tbody tr th {\n",
       "        vertical-align: top;\n",
       "    }\n",
       "\n",
       "    .dataframe thead th {\n",
       "        text-align: right;\n",
       "    }\n",
       "</style>\n",
       "<table border=\"1\" class=\"dataframe\">\n",
       "  <thead>\n",
       "    <tr style=\"text-align: right;\">\n",
       "      <th></th>\n",
       "      <th>HomePlanet</th>\n",
       "      <th>CryoSleep</th>\n",
       "      <th>Destination</th>\n",
       "      <th>Age</th>\n",
       "      <th>VIP</th>\n",
       "      <th>RoomService</th>\n",
       "      <th>FoodCourt</th>\n",
       "      <th>ShoppingMall</th>\n",
       "      <th>Spa</th>\n",
       "      <th>VRDeck</th>\n",
       "      <th>Deck</th>\n",
       "      <th>Cabin_num</th>\n",
       "      <th>Side</th>\n",
       "    </tr>\n",
       "  </thead>\n",
       "  <tbody>\n",
       "    <tr>\n",
       "      <th>0</th>\n",
       "      <td>1.681125</td>\n",
       "      <td>-0.737926</td>\n",
       "      <td>-1.780831</td>\n",
       "      <td>-1.992470</td>\n",
       "      <td>-0.161269</td>\n",
       "      <td>-0.342366</td>\n",
       "      <td>-0.288836</td>\n",
       "      <td>-0.306915</td>\n",
       "      <td>-0.286336</td>\n",
       "      <td>-0.266662</td>\n",
       "      <td>0.403898</td>\n",
       "      <td>0.450707</td>\n",
       "      <td>0.977854</td>\n",
       "    </tr>\n",
       "    <tr>\n",
       "      <th>1</th>\n",
       "      <td>0.422276</td>\n",
       "      <td>1.355149</td>\n",
       "      <td>-1.780831</td>\n",
       "      <td>0.347176</td>\n",
       "      <td>-0.161269</td>\n",
       "      <td>-0.342366</td>\n",
       "      <td>-0.288836</td>\n",
       "      <td>-0.306915</td>\n",
       "      <td>-0.286336</td>\n",
       "      <td>-0.266662</td>\n",
       "      <td>-1.820715</td>\n",
       "      <td>-0.943473</td>\n",
       "      <td>0.977854</td>\n",
       "    </tr>\n",
       "    <tr>\n",
       "      <th>2</th>\n",
       "      <td>1.681125</td>\n",
       "      <td>-0.737926</td>\n",
       "      <td>0.638238</td>\n",
       "      <td>-0.753834</td>\n",
       "      <td>-0.161269</td>\n",
       "      <td>-0.334910</td>\n",
       "      <td>-0.274151</td>\n",
       "      <td>0.766106</td>\n",
       "      <td>-0.286336</td>\n",
       "      <td>0.663613</td>\n",
       "      <td>0.403898</td>\n",
       "      <td>-0.935651</td>\n",
       "      <td>-1.022648</td>\n",
       "    </tr>\n",
       "    <tr>\n",
       "      <th>3</th>\n",
       "      <td>-0.836574</td>\n",
       "      <td>1.355149</td>\n",
       "      <td>0.638238</td>\n",
       "      <td>0.484803</td>\n",
       "      <td>-0.161269</td>\n",
       "      <td>-0.342366</td>\n",
       "      <td>-0.288836</td>\n",
       "      <td>-0.306915</td>\n",
       "      <td>-0.286336</td>\n",
       "      <td>-0.266662</td>\n",
       "      <td>0.960052</td>\n",
       "      <td>-0.920008</td>\n",
       "      <td>0.977854</td>\n",
       "    </tr>\n",
       "    <tr>\n",
       "      <th>4</th>\n",
       "      <td>-0.836574</td>\n",
       "      <td>-0.737926</td>\n",
       "      <td>-0.571297</td>\n",
       "      <td>0.140737</td>\n",
       "      <td>-0.161269</td>\n",
       "      <td>-0.342366</td>\n",
       "      <td>0.221587</td>\n",
       "      <td>-0.306915</td>\n",
       "      <td>-0.286336</td>\n",
       "      <td>-0.266662</td>\n",
       "      <td>-0.152255</td>\n",
       "      <td>-1.119456</td>\n",
       "      <td>0.977854</td>\n",
       "    </tr>\n",
       "  </tbody>\n",
       "</table>\n",
       "</div>"
      ],
      "text/plain": [
       "   HomePlanet  CryoSleep  Destination       Age       VIP  RoomService  \\\n",
       "0    1.681125  -0.737926    -1.780831 -1.992470 -0.161269    -0.342366   \n",
       "1    0.422276   1.355149    -1.780831  0.347176 -0.161269    -0.342366   \n",
       "2    1.681125  -0.737926     0.638238 -0.753834 -0.161269    -0.334910   \n",
       "3   -0.836574   1.355149     0.638238  0.484803 -0.161269    -0.342366   \n",
       "4   -0.836574  -0.737926    -0.571297  0.140737 -0.161269    -0.342366   \n",
       "\n",
       "   FoodCourt  ShoppingMall       Spa    VRDeck      Deck  Cabin_num      Side  \n",
       "0  -0.288836     -0.306915 -0.286336 -0.266662  0.403898   0.450707  0.977854  \n",
       "1  -0.288836     -0.306915 -0.286336 -0.266662 -1.820715  -0.943473  0.977854  \n",
       "2  -0.274151      0.766106 -0.286336  0.663613  0.403898  -0.935651 -1.022648  \n",
       "3  -0.288836     -0.306915 -0.286336 -0.266662  0.960052  -0.920008  0.977854  \n",
       "4   0.221587     -0.306915 -0.286336 -0.266662 -0.152255  -1.119456  0.977854  "
      ]
     },
     "execution_count": 46,
     "metadata": {},
     "output_type": "execute_result"
    }
   ],
   "source": [
    "print(x_train.columns)\n",
    "x_train.head(5)"
   ]
  },
  {
   "cell_type": "code",
   "execution_count": 47,
   "metadata": {},
   "outputs": [],
   "source": [
    "# x_train = label_encode(x_train)\n",
    "# x_test = label_encode(x_test)"
   ]
  },
  {
   "cell_type": "code",
   "execution_count": 48,
   "metadata": {},
   "outputs": [
    {
     "name": "stdout",
     "output_type": "stream",
     "text": [
      "Epoch 1/10\n",
      "148/148 [==============================] - 1s 2ms/step - loss: 0.5700 - accuracy: 0.6984 - val_loss: 0.4683 - val_accuracy: 0.7739\n",
      "Epoch 2/10\n",
      "148/148 [==============================] - 0s 1ms/step - loss: 0.4845 - accuracy: 0.7691 - val_loss: 0.4511 - val_accuracy: 0.7862\n",
      "Epoch 3/10\n",
      "148/148 [==============================] - 0s 992us/step - loss: 0.4596 - accuracy: 0.7822 - val_loss: 0.4424 - val_accuracy: 0.8020\n",
      "Epoch 4/10\n",
      "148/148 [==============================] - 0s 915us/step - loss: 0.4567 - accuracy: 0.7871 - val_loss: 0.4428 - val_accuracy: 0.8059\n",
      "Epoch 5/10\n",
      "148/148 [==============================] - 0s 970us/step - loss: 0.4520 - accuracy: 0.7886 - val_loss: 0.4392 - val_accuracy: 0.8030\n",
      "Epoch 6/10\n",
      "148/148 [==============================] - 0s 921us/step - loss: 0.4415 - accuracy: 0.7932 - val_loss: 0.4387 - val_accuracy: 0.8054\n",
      "Epoch 7/10\n",
      "148/148 [==============================] - 0s 948us/step - loss: 0.4389 - accuracy: 0.7983 - val_loss: 0.4347 - val_accuracy: 0.8094\n",
      "Epoch 8/10\n",
      "148/148 [==============================] - 0s 891us/step - loss: 0.4370 - accuracy: 0.7983 - val_loss: 0.4332 - val_accuracy: 0.8128\n",
      "Epoch 9/10\n",
      "148/148 [==============================] - 0s 930us/step - loss: 0.4302 - accuracy: 0.8042 - val_loss: 0.4299 - val_accuracy: 0.8069\n",
      "Epoch 10/10\n",
      "148/148 [==============================] - 0s 885us/step - loss: 0.4348 - accuracy: 0.7959 - val_loss: 0.4318 - val_accuracy: 0.8089\n",
      "64/64 [==============================] - 0s 474us/step - loss: 0.4318 - accuracy: 0.8089\n",
      "Test Loss: 0.4318\n",
      "Test Accuracy: 0.8089\n"
     ]
    }
   ],
   "source": [
    "model = models.Sequential([\n",
    "    layers.Dense(128, activation='relu', input_shape=(x_train.shape[1],)),\n",
    "    layers.Dropout(0.5),\n",
    "    layers.Dense(64, activation='relu'),\n",
    "    layers.Dropout(0.5),\n",
    "    layers.Dense(1, activation='sigmoid')  # Assuming binary classification\n",
    "])\n",
    "\n",
    "model.compile(optimizer='adam', loss='binary_crossentropy', metrics=['accuracy'])\n",
    "\n",
    "# Train the model\n",
    "model.fit(x_train, y_train, epochs=10, batch_size=32, validation_data=(x_test, y_test))\n",
    "\n",
    "# Evaluate the model\n",
    "loss, accuracy = model.evaluate(x_test, y_test)\n",
    "print(f'Test Loss: {loss:.4f}')\n",
    "print(f'Test Accuracy: {accuracy:.4f}')\n"
   ]
  },
  {
   "cell_type": "code",
   "execution_count": null,
   "metadata": {},
   "outputs": [],
   "source": []
  },
  {
   "cell_type": "code",
   "execution_count": 49,
   "metadata": {},
   "outputs": [
    {
     "data": {
      "text/html": [
       "<div>\n",
       "<style scoped>\n",
       "    .dataframe tbody tr th:only-of-type {\n",
       "        vertical-align: middle;\n",
       "    }\n",
       "\n",
       "    .dataframe tbody tr th {\n",
       "        vertical-align: top;\n",
       "    }\n",
       "\n",
       "    .dataframe thead th {\n",
       "        text-align: right;\n",
       "    }\n",
       "</style>\n",
       "<table border=\"1\" class=\"dataframe\">\n",
       "  <thead>\n",
       "    <tr style=\"text-align: right;\">\n",
       "      <th></th>\n",
       "      <th>HomePlanet</th>\n",
       "      <th>CryoSleep</th>\n",
       "      <th>Destination</th>\n",
       "      <th>Age</th>\n",
       "      <th>VIP</th>\n",
       "      <th>RoomService</th>\n",
       "      <th>FoodCourt</th>\n",
       "      <th>ShoppingMall</th>\n",
       "      <th>Spa</th>\n",
       "      <th>VRDeck</th>\n",
       "      <th>Deck</th>\n",
       "      <th>Cabin_num</th>\n",
       "      <th>Side</th>\n",
       "    </tr>\n",
       "  </thead>\n",
       "  <tbody>\n",
       "    <tr>\n",
       "      <th>0</th>\n",
       "      <td>1.681125</td>\n",
       "      <td>-0.737926</td>\n",
       "      <td>-1.780831</td>\n",
       "      <td>-1.992470</td>\n",
       "      <td>-0.161269</td>\n",
       "      <td>-0.342366</td>\n",
       "      <td>-0.288836</td>\n",
       "      <td>-0.306915</td>\n",
       "      <td>-0.286336</td>\n",
       "      <td>-0.266662</td>\n",
       "      <td>0.403898</td>\n",
       "      <td>0.450707</td>\n",
       "      <td>0.977854</td>\n",
       "    </tr>\n",
       "    <tr>\n",
       "      <th>1</th>\n",
       "      <td>0.422276</td>\n",
       "      <td>1.355149</td>\n",
       "      <td>-1.780831</td>\n",
       "      <td>0.347176</td>\n",
       "      <td>-0.161269</td>\n",
       "      <td>-0.342366</td>\n",
       "      <td>-0.288836</td>\n",
       "      <td>-0.306915</td>\n",
       "      <td>-0.286336</td>\n",
       "      <td>-0.266662</td>\n",
       "      <td>-1.820715</td>\n",
       "      <td>-0.943473</td>\n",
       "      <td>0.977854</td>\n",
       "    </tr>\n",
       "    <tr>\n",
       "      <th>2</th>\n",
       "      <td>1.681125</td>\n",
       "      <td>-0.737926</td>\n",
       "      <td>0.638238</td>\n",
       "      <td>-0.753834</td>\n",
       "      <td>-0.161269</td>\n",
       "      <td>-0.334910</td>\n",
       "      <td>-0.274151</td>\n",
       "      <td>0.766106</td>\n",
       "      <td>-0.286336</td>\n",
       "      <td>0.663613</td>\n",
       "      <td>0.403898</td>\n",
       "      <td>-0.935651</td>\n",
       "      <td>-1.022648</td>\n",
       "    </tr>\n",
       "    <tr>\n",
       "      <th>3</th>\n",
       "      <td>-0.836574</td>\n",
       "      <td>1.355149</td>\n",
       "      <td>0.638238</td>\n",
       "      <td>0.484803</td>\n",
       "      <td>-0.161269</td>\n",
       "      <td>-0.342366</td>\n",
       "      <td>-0.288836</td>\n",
       "      <td>-0.306915</td>\n",
       "      <td>-0.286336</td>\n",
       "      <td>-0.266662</td>\n",
       "      <td>0.960052</td>\n",
       "      <td>-0.920008</td>\n",
       "      <td>0.977854</td>\n",
       "    </tr>\n",
       "    <tr>\n",
       "      <th>4</th>\n",
       "      <td>-0.836574</td>\n",
       "      <td>-0.737926</td>\n",
       "      <td>-0.571297</td>\n",
       "      <td>0.140737</td>\n",
       "      <td>-0.161269</td>\n",
       "      <td>-0.342366</td>\n",
       "      <td>0.221587</td>\n",
       "      <td>-0.306915</td>\n",
       "      <td>-0.286336</td>\n",
       "      <td>-0.266662</td>\n",
       "      <td>-0.152255</td>\n",
       "      <td>-1.119456</td>\n",
       "      <td>0.977854</td>\n",
       "    </tr>\n",
       "  </tbody>\n",
       "</table>\n",
       "</div>"
      ],
      "text/plain": [
       "   HomePlanet  CryoSleep  Destination       Age       VIP  RoomService  \\\n",
       "0    1.681125  -0.737926    -1.780831 -1.992470 -0.161269    -0.342366   \n",
       "1    0.422276   1.355149    -1.780831  0.347176 -0.161269    -0.342366   \n",
       "2    1.681125  -0.737926     0.638238 -0.753834 -0.161269    -0.334910   \n",
       "3   -0.836574   1.355149     0.638238  0.484803 -0.161269    -0.342366   \n",
       "4   -0.836574  -0.737926    -0.571297  0.140737 -0.161269    -0.342366   \n",
       "\n",
       "   FoodCourt  ShoppingMall       Spa    VRDeck      Deck  Cabin_num      Side  \n",
       "0  -0.288836     -0.306915 -0.286336 -0.266662  0.403898   0.450707  0.977854  \n",
       "1  -0.288836     -0.306915 -0.286336 -0.266662 -1.820715  -0.943473  0.977854  \n",
       "2  -0.274151      0.766106 -0.286336  0.663613  0.403898  -0.935651 -1.022648  \n",
       "3  -0.288836     -0.306915 -0.286336 -0.266662  0.960052  -0.920008  0.977854  \n",
       "4   0.221587     -0.306915 -0.286336 -0.266662 -0.152255  -1.119456  0.977854  "
      ]
     },
     "execution_count": 49,
     "metadata": {},
     "output_type": "execute_result"
    }
   ],
   "source": [
    "x_train.head()"
   ]
  },
  {
   "cell_type": "code",
   "execution_count": 50,
   "metadata": {},
   "outputs": [
    {
     "name": "stdout",
     "output_type": "stream",
     "text": [
      "   A  B\n",
      "4  5  1\n",
      "2  3  3\n",
      "0  1  5\n",
      "3  4  2\n",
      "4    0\n",
      "2    0\n",
      "0    0\n",
      "3    1\n",
      "Name: Target, dtype: int64\n"
     ]
    }
   ],
   "source": []
  },
  {
   "cell_type": "code",
   "execution_count": null,
   "metadata": {},
   "outputs": [],
   "source": []
  }
 ],
 "metadata": {
  "kernelspec": {
   "display_name": ".venv",
   "language": "python",
   "name": "python3"
  },
  "language_info": {
   "codemirror_mode": {
    "name": "ipython",
    "version": 3
   },
   "file_extension": ".py",
   "mimetype": "text/x-python",
   "name": "python",
   "nbconvert_exporter": "python",
   "pygments_lexer": "ipython3",
   "version": "3.11.6"
  }
 },
 "nbformat": 4,
 "nbformat_minor": 2
}
