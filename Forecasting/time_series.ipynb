{
 "cells": [
  {
   "cell_type": "markdown",
   "metadata": {},
   "source": [
    "## Imports"
   ]
  },
  {
   "cell_type": "code",
   "execution_count": 24,
   "metadata": {},
   "outputs": [],
   "source": [
    "import pandas as pd\n",
    "import matplotlib.pyplot as plt\n",
    "import seaborn as sns\n",
    "import xgboost as xgb\n",
    "import numpy as np\n",
    "from sklearn.metrics import mean_squared_error\n",
    "from sklearn.model_selection import TimeSeriesSplit\n",
    "from statsmodels.tsa.seasonal import seasonal_decompose\n",
    "\n",
    "\n",
    "# plt.style.use('fivethirtyeight')"
   ]
  },
  {
   "cell_type": "code",
   "execution_count": 21,
   "metadata": {},
   "outputs": [
    {
     "data": {
      "text/html": [
       "<div>\n",
       "<style scoped>\n",
       "    .dataframe tbody tr th:only-of-type {\n",
       "        vertical-align: middle;\n",
       "    }\n",
       "\n",
       "    .dataframe tbody tr th {\n",
       "        vertical-align: top;\n",
       "    }\n",
       "\n",
       "    .dataframe thead th {\n",
       "        text-align: right;\n",
       "    }\n",
       "</style>\n",
       "<table border=\"1\" class=\"dataframe\">\n",
       "  <thead>\n",
       "    <tr style=\"text-align: right;\">\n",
       "      <th></th>\n",
       "      <th>PJME_MW</th>\n",
       "    </tr>\n",
       "    <tr>\n",
       "      <th>Datetime</th>\n",
       "      <th></th>\n",
       "    </tr>\n",
       "  </thead>\n",
       "  <tbody>\n",
       "    <tr>\n",
       "      <th>2002-01-01 01:00:00</th>\n",
       "      <td>30393.0</td>\n",
       "    </tr>\n",
       "    <tr>\n",
       "      <th>2002-01-01 02:00:00</th>\n",
       "      <td>29265.0</td>\n",
       "    </tr>\n",
       "    <tr>\n",
       "      <th>2002-01-01 03:00:00</th>\n",
       "      <td>28357.0</td>\n",
       "    </tr>\n",
       "    <tr>\n",
       "      <th>2002-01-01 04:00:00</th>\n",
       "      <td>27899.0</td>\n",
       "    </tr>\n",
       "    <tr>\n",
       "      <th>2002-01-01 05:00:00</th>\n",
       "      <td>28057.0</td>\n",
       "    </tr>\n",
       "    <tr>\n",
       "      <th>...</th>\n",
       "      <td>...</td>\n",
       "    </tr>\n",
       "    <tr>\n",
       "      <th>2018-08-02 20:00:00</th>\n",
       "      <td>44057.0</td>\n",
       "    </tr>\n",
       "    <tr>\n",
       "      <th>2018-08-02 21:00:00</th>\n",
       "      <td>43256.0</td>\n",
       "    </tr>\n",
       "    <tr>\n",
       "      <th>2018-08-02 22:00:00</th>\n",
       "      <td>41552.0</td>\n",
       "    </tr>\n",
       "    <tr>\n",
       "      <th>2018-08-02 23:00:00</th>\n",
       "      <td>38500.0</td>\n",
       "    </tr>\n",
       "    <tr>\n",
       "      <th>2018-08-03 00:00:00</th>\n",
       "      <td>35486.0</td>\n",
       "    </tr>\n",
       "  </tbody>\n",
       "</table>\n",
       "<p>145366 rows × 1 columns</p>\n",
       "</div>"
      ],
      "text/plain": [
       "                     PJME_MW\n",
       "Datetime                    \n",
       "2002-01-01 01:00:00  30393.0\n",
       "2002-01-01 02:00:00  29265.0\n",
       "2002-01-01 03:00:00  28357.0\n",
       "2002-01-01 04:00:00  27899.0\n",
       "2002-01-01 05:00:00  28057.0\n",
       "...                      ...\n",
       "2018-08-02 20:00:00  44057.0\n",
       "2018-08-02 21:00:00  43256.0\n",
       "2018-08-02 22:00:00  41552.0\n",
       "2018-08-02 23:00:00  38500.0\n",
       "2018-08-03 00:00:00  35486.0\n",
       "\n",
       "[145366 rows x 1 columns]"
      ]
     },
     "execution_count": 21,
     "metadata": {},
     "output_type": "execute_result"
    }
   ],
   "source": [
    "df = pd.read_csv(\"PJME_hourly.csv\")\n",
    "df[\"Datetime\"] = pd.to_datetime(df[\"Datetime\"]).sort_values()\n",
    "df.set_index(\"Datetime\", inplace=True)\n",
    "df.sort_index()"
   ]
  },
  {
   "cell_type": "code",
   "execution_count": 22,
   "metadata": {},
   "outputs": [
    {
     "name": "stdout",
     "output_type": "stream",
     "text": [
      "Index:     datetime64[ns]\n",
      "PJME_MW    float64\n",
      "dtype: object\n"
     ]
    }
   ],
   "source": [
    "print(\"Index:     \" + str(df.index.dtype))\n",
    "print(df.dtypes)"
   ]
  },
  {
   "cell_type": "markdown",
   "metadata": {},
   "source": [
    "## Dataset Description\n",
    "\n",
    "This dataset contains energy consumption data for the East Region, measured in Mega Watts (MW). The dataset consists of a timestamp column and a corresponding column indicating the energy consumption.\n",
    "\n",
    "### Features:\n",
    "\n",
    "- **Datetime**: Timestamp indicating the time of energy consumption measurements.\n",
    "- **PJME_MW**: Energy consumption in Mega Watts (MW) in the East Region.\n",
    "\n",
    "The dataset provides a time series of energy consumption data, allowing for analysis and exploration of trends and patterns over time."
   ]
  },
  {
   "cell_type": "markdown",
   "metadata": {},
   "source": [
    "Mathematically, a forecasting model can be represented as a function $ f(x) $ that maps historical data $ x $ to predicted future values $ \\hat{y} $. The general form of a forecasting model can vary depending on the specific problem and the underlying data characteristics.\n",
    "\n",
    "Here's a basic mathematical representation:\n",
    "\n",
    "$$\\hat{y} = f(x)$$\n",
    "\n",
    "Where:\n",
    "-  $\\hat{y}$ represents the predicted or forecasted value.\n",
    "- $ x $ represents the historical data or features used for prediction.\n",
    "- $ f(\\cdot) $ represents the forecasting model, which can be a linear regression, time series analysis, machine learning algorithm, or any other mathematical function tailored to the problem domain.\n",
    "\n",
    "For example, in linear regression, the forecasting model $ f(x) $ can be represented as:\n",
    "\n",
    "$$\\hat{y} = \\beta_0 + \\beta_1 x_1 + \\beta_2 x_2 + \\ldots + \\beta_n x_n$$\n",
    "\n",
    "Where:\n",
    "- $ \\beta_0, \\beta_1, \\ldots, \\beta_n $ are the coefficients or parameters estimated from the historical data $ x $.\n",
    "- $ x_1, x_2, \\ldots, x_n $ are the features or predictors used for forecasting.\n",
    "- $ \\hat{y} $ is the predicted value.\n",
    "\n",
    "In time series analysis, forecasting models often involve autoregressive integrated moving average (ARIMA), exponential smoothing methods, or machine learning algorithms tailored to time series data. These models capture the temporal dependencies and patterns in the data to make predictions about future values.\n"
   ]
  },
  {
   "cell_type": "markdown",
   "metadata": {},
   "source": [
    "## Cleaning and Finding Missing Data\n",
    "\n",
    "First, let's check if there are any missing dates in the dataset."
   ]
  },
  {
   "cell_type": "code",
   "execution_count": 23,
   "metadata": {},
   "outputs": [
    {
     "data": {
      "text/plain": [
       "DatetimeIndex(['2002-04-07 03:00:00', '2002-10-27 02:00:00',\n",
       "               '2003-04-06 03:00:00', '2003-10-26 02:00:00',\n",
       "               '2004-04-04 03:00:00', '2004-10-31 02:00:00',\n",
       "               '2005-04-03 03:00:00', '2005-10-30 02:00:00',\n",
       "               '2006-04-02 03:00:00', '2006-10-29 02:00:00',\n",
       "               '2007-03-11 03:00:00', '2007-11-04 02:00:00',\n",
       "               '2008-03-09 03:00:00', '2008-11-02 02:00:00',\n",
       "               '2009-03-08 03:00:00', '2009-11-01 02:00:00',\n",
       "               '2010-03-14 03:00:00', '2010-11-07 02:00:00',\n",
       "               '2010-12-10 00:00:00', '2011-03-13 03:00:00',\n",
       "               '2011-11-06 02:00:00', '2012-03-11 03:00:00',\n",
       "               '2012-11-04 02:00:00', '2013-03-10 03:00:00',\n",
       "               '2013-11-03 02:00:00', '2014-03-09 03:00:00',\n",
       "               '2015-03-08 03:00:00', '2016-03-13 03:00:00',\n",
       "               '2017-03-12 03:00:00', '2018-03-11 03:00:00'],\n",
       "              dtype='datetime64[ns]', freq=None)"
      ]
     },
     "execution_count": 23,
     "metadata": {},
     "output_type": "execute_result"
    }
   ],
   "source": [
    "missing_dates = pd.date_range(start=df.index.min(), end=df.index.max(), freq=\"H\").difference(df.index)\n",
    "missing_dates"
   ]
  },
  {
   "cell_type": "markdown",
   "metadata": {},
   "source": [
    "As we can see there are a few days where the dates that are missing lets try to interpolate using seosenal interpolation whit its neighors in order to create thoose enteries in the dataset"
   ]
  },
  {
   "cell_type": "code",
   "execution_count": 27,
   "metadata": {},
   "outputs": [
    {
     "ename": "ValueError",
     "evalue": "Inferred frequency None from passed values does not conform to passed frequency H",
     "output_type": "error",
     "traceback": [
      "\u001b[0;31m---------------------------------------------------------------------------\u001b[0m",
      "\u001b[0;31mValueError\u001b[0m                                Traceback (most recent call last)",
      "File \u001b[0;32m~/PyTorch/Data Science/.venv/lib/python3.11/site-packages/pandas/core/arrays/datetimelike.py:2038\u001b[0m, in \u001b[0;36mTimelikeOps._validate_frequency\u001b[0;34m(cls, index, freq, **kwargs)\u001b[0m\n\u001b[1;32m   2037\u001b[0m     \u001b[38;5;28;01mif\u001b[39;00m \u001b[38;5;129;01mnot\u001b[39;00m np\u001b[38;5;241m.\u001b[39marray_equal(index\u001b[38;5;241m.\u001b[39masi8, on_freq\u001b[38;5;241m.\u001b[39masi8):\n\u001b[0;32m-> 2038\u001b[0m         \u001b[38;5;28;01mraise\u001b[39;00m \u001b[38;5;167;01mValueError\u001b[39;00m\n\u001b[1;32m   2039\u001b[0m \u001b[38;5;28;01mexcept\u001b[39;00m \u001b[38;5;167;01mValueError\u001b[39;00m \u001b[38;5;28;01mas\u001b[39;00m err:\n",
      "\u001b[0;31mValueError\u001b[0m: ",
      "\nThe above exception was the direct cause of the following exception:\n",
      "\u001b[0;31mValueError\u001b[0m                                Traceback (most recent call last)",
      "Cell \u001b[0;32mIn[27], line 1\u001b[0m\n\u001b[0;32m----> 1\u001b[0m \u001b[43mdf\u001b[49m\u001b[38;5;241;43m.\u001b[39;49m\u001b[43mindex\u001b[49m\u001b[38;5;241;43m.\u001b[39;49m\u001b[43mfreq\u001b[49m \u001b[38;5;241m=\u001b[39m \u001b[38;5;124m'\u001b[39m\u001b[38;5;124mH\u001b[39m\u001b[38;5;124m'\u001b[39m\n\u001b[1;32m      2\u001b[0m decomposition \u001b[38;5;241m=\u001b[39m seasonal_decompose(df[\u001b[38;5;124m\"\u001b[39m\u001b[38;5;124mPJME_MW\u001b[39m\u001b[38;5;124m\"\u001b[39m], model\u001b[38;5;241m=\u001b[39m\u001b[38;5;124m\"\u001b[39m\u001b[38;5;124madditive\u001b[39m\u001b[38;5;124m\"\u001b[39m)\n\u001b[1;32m      4\u001b[0m \u001b[38;5;66;03m# Interpolate missing values within seasonal component\u001b[39;00m\n",
      "File \u001b[0;32m~/PyTorch/Data Science/.venv/lib/python3.11/site-packages/pandas/core/indexes/datetimelike.py:103\u001b[0m, in \u001b[0;36mDatetimeIndexOpsMixin.freq\u001b[0;34m(self, value)\u001b[0m\n\u001b[1;32m    100\u001b[0m \u001b[38;5;129m@freq\u001b[39m\u001b[38;5;241m.\u001b[39msetter\n\u001b[1;32m    101\u001b[0m \u001b[38;5;28;01mdef\u001b[39;00m \u001b[38;5;21mfreq\u001b[39m(\u001b[38;5;28mself\u001b[39m, value) \u001b[38;5;241m-\u001b[39m\u001b[38;5;241m>\u001b[39m \u001b[38;5;28;01mNone\u001b[39;00m:\n\u001b[1;32m    102\u001b[0m     \u001b[38;5;66;03m# error: Property \"freq\" defined in \"PeriodArray\" is read-only  [misc]\u001b[39;00m\n\u001b[0;32m--> 103\u001b[0m     \u001b[38;5;28;43mself\u001b[39;49m\u001b[38;5;241;43m.\u001b[39;49m\u001b[43m_data\u001b[49m\u001b[38;5;241;43m.\u001b[39;49m\u001b[43mfreq\u001b[49m \u001b[38;5;241m=\u001b[39m value\n",
      "File \u001b[0;32m~/PyTorch/Data Science/.venv/lib/python3.11/site-packages/pandas/core/arrays/datetimelike.py:2002\u001b[0m, in \u001b[0;36mTimelikeOps.freq\u001b[0;34m(self, value)\u001b[0m\n\u001b[1;32m   2000\u001b[0m \u001b[38;5;28;01mif\u001b[39;00m value \u001b[38;5;129;01mis\u001b[39;00m \u001b[38;5;129;01mnot\u001b[39;00m \u001b[38;5;28;01mNone\u001b[39;00m:\n\u001b[1;32m   2001\u001b[0m     value \u001b[38;5;241m=\u001b[39m to_offset(value)\n\u001b[0;32m-> 2002\u001b[0m     \u001b[38;5;28;43mself\u001b[39;49m\u001b[38;5;241;43m.\u001b[39;49m\u001b[43m_validate_frequency\u001b[49m\u001b[43m(\u001b[49m\u001b[38;5;28;43mself\u001b[39;49m\u001b[43m,\u001b[49m\u001b[43m \u001b[49m\u001b[43mvalue\u001b[49m\u001b[43m)\u001b[49m\n\u001b[1;32m   2003\u001b[0m     \u001b[38;5;28;01mif\u001b[39;00m \u001b[38;5;28mself\u001b[39m\u001b[38;5;241m.\u001b[39mdtype\u001b[38;5;241m.\u001b[39mkind \u001b[38;5;241m==\u001b[39m \u001b[38;5;124m\"\u001b[39m\u001b[38;5;124mm\u001b[39m\u001b[38;5;124m\"\u001b[39m \u001b[38;5;129;01mand\u001b[39;00m \u001b[38;5;129;01mnot\u001b[39;00m \u001b[38;5;28misinstance\u001b[39m(value, Tick):\n\u001b[1;32m   2004\u001b[0m         \u001b[38;5;28;01mraise\u001b[39;00m \u001b[38;5;167;01mTypeError\u001b[39;00m(\u001b[38;5;124m\"\u001b[39m\u001b[38;5;124mTimedeltaArray/Index freq must be a Tick\u001b[39m\u001b[38;5;124m\"\u001b[39m)\n",
      "File \u001b[0;32m~/PyTorch/Data Science/.venv/lib/python3.11/site-packages/pandas/core/arrays/datetimelike.py:2049\u001b[0m, in \u001b[0;36mTimelikeOps._validate_frequency\u001b[0;34m(cls, index, freq, **kwargs)\u001b[0m\n\u001b[1;32m   2043\u001b[0m     \u001b[38;5;28;01mraise\u001b[39;00m err\n\u001b[1;32m   2044\u001b[0m \u001b[38;5;66;03m# GH#11587 the main way this is reached is if the `np.array_equal`\u001b[39;00m\n\u001b[1;32m   2045\u001b[0m \u001b[38;5;66;03m#  check above is False.  This can also be reached if index[0]\u001b[39;00m\n\u001b[1;32m   2046\u001b[0m \u001b[38;5;66;03m#  is `NaT`, in which case the call to `cls._generate_range` will\u001b[39;00m\n\u001b[1;32m   2047\u001b[0m \u001b[38;5;66;03m#  raise a ValueError, which we re-raise with a more targeted\u001b[39;00m\n\u001b[1;32m   2048\u001b[0m \u001b[38;5;66;03m#  message.\u001b[39;00m\n\u001b[0;32m-> 2049\u001b[0m \u001b[38;5;28;01mraise\u001b[39;00m \u001b[38;5;167;01mValueError\u001b[39;00m(\n\u001b[1;32m   2050\u001b[0m     \u001b[38;5;124mf\u001b[39m\u001b[38;5;124m\"\u001b[39m\u001b[38;5;124mInferred frequency \u001b[39m\u001b[38;5;132;01m{\u001b[39;00minferred\u001b[38;5;132;01m}\u001b[39;00m\u001b[38;5;124m from passed values \u001b[39m\u001b[38;5;124m\"\u001b[39m\n\u001b[1;32m   2051\u001b[0m     \u001b[38;5;124mf\u001b[39m\u001b[38;5;124m\"\u001b[39m\u001b[38;5;124mdoes not conform to passed frequency \u001b[39m\u001b[38;5;132;01m{\u001b[39;00mfreq\u001b[38;5;241m.\u001b[39mfreqstr\u001b[38;5;132;01m}\u001b[39;00m\u001b[38;5;124m\"\u001b[39m\n\u001b[1;32m   2052\u001b[0m ) \u001b[38;5;28;01mfrom\u001b[39;00m \u001b[38;5;21;01merr\u001b[39;00m\n",
      "\u001b[0;31mValueError\u001b[0m: Inferred frequency None from passed values does not conform to passed frequency H"
     ]
    }
   ],
   "source": [
    "\n",
    "df.index.freq = 'H'\n",
    "decomposition = seasonal_decompose(df[\"PJME_MW\"], model=\"additive\")\n",
    "\n",
    "# Interpolate missing values within seasonal component\n",
    "seasonal_component = decomposition.seasonal\n",
    "interpolated_seasonal = seasonal_component.interpolate(method=\"linear\", limit_direction=\"both\")\n",
    "# Recombine seasonal component with trend and residual components\n",
    "reconstructed_data = decomposition.trend + interpolated_seasonal + decomposition.resid\n",
    "\n",
    "# Update original DataFrame with interpolated values\n",
    "df[\"Interpolated_PJME_MW\"] = reconstructed_data\n",
    "\n",
    "# Print DataFrame to view interpolated values\n",
    "print(df)"
   ]
  },
  {
   "cell_type": "code",
   "execution_count": 12,
   "metadata": {},
   "outputs": [
    {
     "data": {
      "image/png": "[encoded data removed]",
      "text/plain": [
       "<Figure size 1000x600 with 1 Axes>"
      ]
     },
     "metadata": {},
     "output_type": "display_data"
    }
   ],
   "source": [
    "train = df[df.index < \"01-01-2015\"]\n",
    "test = df[df.index > \"01-01-2015\"]\n",
    "\n",
    "plt.figure(figsize=(10, 6))  # Set the figure size\n",
    "\n",
    "plt.plot(train.index, train[\"PJME_MW\"], label=\"Training Series\")\n",
    "plt.plot(test.index, test[\"PJME_MW\"], label=\"Testing Series\")\n",
    "\n",
    "\n",
    "plt.title(\"Train/Test Split\")\n",
    "plt.axvline(pd.Timestamp(\"2015-01-01\"), color=\"black\", ls=\"--\")\n",
    "\n",
    "plt.xlabel(\"Date\")\n",
    "plt.ylabel(\"Value\")\n",
    "\n",
    "plt.legend([\"Training Series\", \"Testing Series\"])\n",
    "\n",
    "plt.show()"
   ]
  },
  {
   "cell_type": "code",
   "execution_count": null,
   "metadata": {},
   "outputs": [],
   "source": [
    "df.head()"
   ]
  },
  {
   "cell_type": "code",
   "execution_count": null,
   "metadata": {},
   "outputs": [],
   "source": [
    "df.loc[(df.index > \"01-01-2010\") & (df.index < \"01-08-2010\")].plot(legend=False, title=\"One Weak\")"
   ]
  },
  {
   "cell_type": "code",
   "execution_count": null,
   "metadata": {},
   "outputs": [],
   "source": [
    "def create_features(df):    \n",
    "    df = df.copy()\n",
    "    df[\"hour\"] = df.index.hour\n",
    "    df[\"day_of_week\"] = df.indexloc[first_date:last_date].dayofweek\n",
    "    df[\"quarter\"] = df.index.quarter\n",
    "    df[\"month\"] = df.index.month\n",
    "    df[\"year\"] = df.index.year\n",
    "    df[\"day_of_year\"] = df.index.dayofyear\n",
    "    return df"
   ]
  },
  {
   "cell_type": "code",
   "execution_count": null,
   "metadata": {},
   "outputs": [],
   "source": [
    "df = create_features(df)\n",
    "df.head()"
   ]
  },
  {
   "cell_type": "code",
   "execution_count": null,
   "metadata": {},
   "outputs": [],
   "source": [
    "ax = sns.boxenplot(data=df, x=\"hour\", y=\"PJME_MW\", legend=False)\n",
    "ax.set_title(\"MW by hour\")\n",
    "ax.set_ylabel(\"MW\")"
   ]
  },
  {
   "cell_type": "code",
   "execution_count": null,
   "metadata": {},
   "outputs": [],
   "source": [
    "ax = sns.boxenplot(data=df, x=\"month\", y=\"PJME_MW\", legend=False)\n",
    "ax.set_title(\"MW by hour\")\n",
    "ax.set_ylabel(\"MW\")"
   ]
  },
  {
   "cell_type": "code",
   "execution_count": null,
   "metadata": {},
   "outputs": [],
   "source": [
    "train = create_features(train)\n",
    "test = create_features(test)\n",
    "\n",
    "features = df.columns[(df.columns != \"PJME_MW\") & (df.columns != \"Datetime\")]\n",
    "target = df.columns[1]\n",
    "\n",
    "x_train = train[features]\n",
    "y_train = train[target]\n",
    "\n",
    "x_test = test[features]\n",
    "y_test = test[target]"
   ]
  },
  {
   "cell_type": "code",
   "execution_count": null,
   "metadata": {},
   "outputs": [],
   "source": [
    "reg = xgb.XGBRegressor(base_score=0.5, booster='gbtree',    \n",
    "                       n_estimators=1000,\n",
    "                       early_stopping_rounds=50,\n",
    "                       objective='reg:linear',\n",
    "                       max_depth=3,\n",
    "                       learning_rate=0.01)\n",
    "reg.fit(x_train, y_train, eval_set=[(x_train, y_train), (x_test, y_test)], verbose=100)"
   ]
  },
  {
   "cell_type": "code",
   "execution_count": null,
   "metadata": {},
   "outputs": [],
   "source": [
    "reg_final = pd.DataFrame(data=reg.feature_importances_,\n",
    "                         index=reg.feature_names_in_,\n",
    "                         columns=[\"importance\"])\n",
    "\n",
    "reg_final.sort_values(\"importance\").plot(kind=\"barh\", title=\"Feature Importance\", legend=False)"
   ]
  },
  {
   "cell_type": "code",
   "execution_count": null,
   "metadata": {},
   "outputs": [],
   "source": [
    "test[\"predictions\"] = reg.predict(x_test)\n",
    "df = df.merge(test[\"predictions\"], how=\"left\", left_index=True, right_index=True)"
   ]
  },
  {
   "cell_type": "code",
   "execution_count": null,
   "metadata": {},
   "outputs": [],
   "source": [
    "ax = df[\"PJME_MW\"].plot()\n",
    "df[\"predictions\"].plot()\n",
    "plt.legend([\"True Data\", \"Prediction\"])\n",
    "ax.set_title(\"Raw Data and Prediction\")"
   ]
  },
  {
   "cell_type": "code",
   "execution_count": null,
   "metadata": {},
   "outputs": [],
   "source": [
    "df.loc[(df.index > \"04-01-2018\") & (df.index < \"04-08-2018\")][\"PJME_MW\"].plot(legend=False, title=\"One Weak\")\n",
    "df.loc[(df.index > \"04-01-2018\") & (df.index < \"04-08-2018\")][\"predictions\"].plot()\n",
    "plt.legend([\"Real Data\", \"Prediction\"])"
   ]
  },
  {
   "cell_type": "code",
   "execution_count": null,
   "metadata": {},
   "outputs": [],
   "source": [
    "score = np.sqrt(mean_squared_error(test[\"PJME_MW\"], test[\"predictions\"]))\n",
    "print(f\"MSE Score on Test set:{score:0.2f}\")"
   ]
  },
  {
   "cell_type": "code",
   "execution_count": null,
   "metadata": {},
   "outputs": [],
   "source": [
    "test[\"error\"] = np.abs(test[target] - test[\"predictions\"])\n",
    "test[\"date\"] = test.index.date\n",
    "test.groupby([\"date\"])[\"error\"].mean().sort_values(ascending=False).head()"
   ]
  },
  {
   "cell_type": "markdown",
   "metadata": {},
   "source": [
    "# LETS IMPROVE THIS"
   ]
  },
  {
   "cell_type": "markdown",
   "metadata": {},
   "source": [
    "#### Lets remove some outliers"
   ]
  },
  {
   "cell_type": "code",
   "execution_count": null,
   "metadata": {},
   "outputs": [],
   "source": [
    "df = pd.read_csv(\"PJME_hourly.csv\")\n",
    "df.index = pd.to_datetime(df[\"Datetime\"])\n",
    "df.head()"
   ]
  },
  {
   "cell_type": "code",
   "execution_count": null,
   "metadata": {},
   "outputs": [],
   "source": [
    "df.plot(legend=False, title=\"PJME Energy Used in MW\")"
   ]
  },
  {
   "cell_type": "markdown",
   "metadata": {},
   "source": [
    "We can see that around 2014 we have some values that seems to not be correct"
   ]
  },
  {
   "cell_type": "code",
   "execution_count": null,
   "metadata": {},
   "outputs": [],
   "source": [
    "df.plot(kind=\"hist\", bins=1000, legend=False)"
   ]
  },
  {
   "cell_type": "code",
   "execution_count": null,
   "metadata": {},
   "outputs": [],
   "source": [
    "df.query(\"PJME_MW < 20_000\").plot(legend=False)"
   ]
  },
  {
   "cell_type": "code",
   "execution_count": null,
   "metadata": {},
   "outputs": [],
   "source": [
    "df.query(\"PJME_MW < 19_000\").plot(legend=False)"
   ]
  },
  {
   "cell_type": "code",
   "execution_count": null,
   "metadata": {},
   "outputs": [],
   "source": [
    "df = df.query(\"PJME_MW>19_000\").copy()\n",
    "df.plot(title=\"PJME Energy Used in MW\", legend=False)"
   ]
  },
  {
   "cell_type": "markdown",
   "metadata": {},
   "source": [
    "#### Cross Validation"
   ]
  },
  {
   "cell_type": "code",
   "execution_count": null,
   "metadata": {},
   "outputs": [],
   "source": [
    "tss = TimeSeriesSplit(n_splits=5, test_size=24*365*1, gap=24)\n",
    "df = df.sort_index()\n",
    "\n",
    "fig, axs = plt.subplots(5,1, figsize=(15,15), sharex=True)\n",
    "\n",
    "fold = 0\n",
    "\n",
    "for train_index, test_index in tss.split(df):\n",
    "    train = df.iloc[train_index]\n",
    "    test = df.iloc[test_index]\n",
    "    \n",
    "    train[\"PJME_MW\"].plot(ax=axs[fold], \n",
    "                          legend=False,\n",
    "                          title=f\"Data Train/Test Split Fold {fold}\")\n",
    "    test[\"PJME_MW\"].plot(ax=axs[fold], legend=False)\n",
    "    axs[fold].axvline(test.index.min(), color=\"black\", ls=\"--\")\n",
    "    fold += 1\n",
    "plt.show()"
   ]
  },
  {
   "cell_type": "code",
   "execution_count": null,
   "metadata": {},
   "outputs": [],
   "source": [
    "df = create_features(df)\n",
    "\n",
    "def create_lag(df):\n",
    "    df = df.copy()\n",
    "    target_map = df[\"PJME_MW\"].to_dict()\n",
    "\n",
    "    df[\"lag1\"] = (df.index - pd.Timedelta(\"364 days\")).map(target_map)\n",
    "    df[\"lag2\"] = (df.index - pd.Timedelta(\"768 days\")).map(target_map)\n",
    "    df[\"lag3\"] = (df.index - pd.Timedelta(\"1092 days\")).map(target_map)\n",
    "    return df\n",
    "\n",
    "df = create_lag(df)"
   ]
  },
  {
   "cell_type": "code",
   "execution_count": null,
   "metadata": {},
   "outputs": [],
   "source": [
    "tss = TimeSeriesSplit(n_splits=5, test_size=24*365*1, gap=24)\n",
    "df = df.sort_index()\n",
    "\n",
    "\n",
    "fold = 0\n",
    "preds = []\n",
    "scores = []\n",
    "features = df.columns[(df.columns != \"PJME_MW\") & (df.columns != \"Datetime\")]\n",
    "target = df.columns[1]\n",
    "\n",
    "\n",
    "for train_index, test_index in tss.split(df):\n",
    "    train = df.iloc[train_index]\n",
    "    test = df.iloc[test_index]\n",
    "    \n",
    "    train = create_features(train)\n",
    "    test = create_features(test)\n",
    "    \n",
    "    x_train = train[features]\n",
    "    y_train = train[target]\n",
    "    \n",
    "    x_test = test[features]\n",
    "    y_test = test[target]\n",
    "    \n",
    "    reg = xgb.XGBRegressor(base_score=0.5, booster=\"gbtree\",\n",
    "                           n_estimators=1000,\n",
    "                           early_stopping_rounds = 50,\n",
    "                           objective=\"reg:linear\",\n",
    "                           max_depth=3,\n",
    "                           learning_rate=0.01)\n",
    "    reg.fit(x_train, y_train, \n",
    "            eval_set=[(x_train, y_train), (x_test, y_test)],\n",
    "            verbose=100)\n",
    "    \n",
    "    y_pred = reg.predict(x_test)\n",
    "    preds.append(y_pred)\n",
    "    score = np.sqrt(mean_squared_error(y_test, y_pred))\n",
    "    scores.append(score)\n",
    "    fold += 1\n",
    "    "
   ]
  },
  {
   "cell_type": "code",
   "execution_count": null,
   "metadata": {},
   "outputs": [],
   "source": [
    "print(f\"Score across folds {np.mean(scores):0.4f}\")\n",
    "print(f\"Fold Scores: {scores}\")"
   ]
  },
  {
   "cell_type": "code",
   "execution_count": null,
   "metadata": {},
   "outputs": [],
   "source": [
    "df = create_features(df)\n",
    "\n",
    "x_all = df[features]\n",
    "y_all = df[target]\n",
    "\n",
    "reg = xgb.XGBRegressor(base_score=0.5, \n",
    "                       booster=\"gbtree\",\n",
    "                       n_estimators=500,\n",
    "                       early_stopping_rounds = 50,\n",
    "                       objective=\"reg:linear\",\n",
    "                       max_depth=3,\n",
    "                       learning_rate=0.01)\n",
    "\n",
    "reg.fit(x_all, y_all, \n",
    "        eval_set=[(x_all, y_all)],\n",
    "        verbose=100)"
   ]
  },
  {
   "cell_type": "code",
   "execution_count": null,
   "metadata": {},
   "outputs": [],
   "source": [
    "df.index.max()"
   ]
  },
  {
   "cell_type": "code",
   "execution_count": null,
   "metadata": {},
   "outputs": [],
   "source": [
    "future_time = pd.date_range(\"2018-08-03\", \"2019-08-01\", freq=\"1h\")\n",
    "future_df = pd.DataFrame(index=future_time)\n",
    "future_df[\"isFuture\"] = True\n",
    "df[\"isFuture\"] = False\n",
    "df_and_future = pd.concat([df, future_df])\n",
    "df_and_future = create_features(df_and_future)\n",
    "df_and_future = create_lag(df_and_future)\n",
    "df_and_future.drop(\"Datetime\", axis=1, inplace=True)\n",
    "df_and_future.head()"
   ]
  },
  {
   "cell_type": "code",
   "execution_count": null,
   "metadata": {},
   "outputs": [],
   "source": [
    "feature_w_features = df_and_future.query(\"isFuture\").copy()\n",
    "\n",
    "feature_w_features[\"pred\"] = reg.predict(feature_w_features[features])\n",
    "\n",
    "feature_w_features[\"pred\"].plot()"
   ]
  },
  {
   "cell_type": "code",
   "execution_count": null,
   "metadata": {},
   "outputs": [],
   "source": [
    "feature_w_features.head()"
   ]
  },
  {
   "cell_type": "code",
   "execution_count": null,
   "metadata": {},
   "outputs": [],
   "source": []
  }
 ],
 "metadata": {
  "kernelspec": {
   "display_name": ".venv",
   "language": "python",
   "name": "python3"
  },
  "language_info": {
   "codemirror_mode": {
    "name": "ipython",
    "version": 3
   },
   "file_extension": ".py",
   "mimetype": "text/x-python",
   "name": "python",
   "nbconvert_exporter": "python",
   "pygments_lexer": "ipython3",
   "version": "3.11.8"
  }
 },
 "nbformat": 4,
 "nbformat_minor": 2
}
